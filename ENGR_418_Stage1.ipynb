{
  "cells": [
    {
      "cell_type": "markdown",
      "metadata": {},
      "source": [
        "Imports"
      ]
    },
    {
      "cell_type": "code",
      "execution_count": 145,
      "metadata": {
        "id": "zq4Jaon_5Dsw"
      },
      "outputs": [],
      "source": [
        "import os\n",
        "import numpy as np\n",
        "from numpy import asarray\n",
        "from sklearn.linear_model import LogisticRegression\n",
        "import pandas as pd\n",
        "from sklearn.metrics import confusion_matrix, accuracy_score\n",
        "from PIL import Image"
      ]
    },
    {
      "cell_type": "markdown",
      "metadata": {},
      "source": [
        "Training Dataset"
      ]
    },
    {
      "cell_type": "code",
      "execution_count": 146,
      "metadata": {},
      "outputs": [],
      "source": [
        "'''This block of code gets the training data set ready for the model.\n",
        "This is done by first setting up a dataframe where each image is assigned to a class. The images are then processed by being grayscaled, resized and\n",
        "turned into an array form.'''\n",
        "path_testing = 'testing/'\n",
        "path_training = 'training/'\n",
        "im_width = 16\n",
        "def train_function(path,im_width):\n",
        "    file_names = os.listdir(path) #list all files in the path\n",
        "    labels = [] #empty array to store classes \n",
        "    for file_name in file_names:\n",
        "        shape = file_name.split('_')[0] #splitting the data on the underscore and taking the first element\n",
        "        if shape == 'cir':\n",
        "            labels.append(0) #if shape is circle, add 0 to the label array\n",
        "        elif shape == 'rec':\n",
        "            labels.append(1) #if shape is rectangle, add 1 to the label array\n",
        "        else:\n",
        "            labels.append(2) #if shape is square, add 2 to the label array\n",
        "\n",
        "    dict = {\n",
        "        'image':file_names, 'class':labels #dictionary initializzation to assign filename and label array to image and class\n",
        "    }\n",
        "    df_train = pd.DataFrame.from_dict(dict, orient='index').T #contructs a dataframe form a dictionary of arrays \n",
        "    n_samples = len(df_train) #number of images in the folder\n",
        "    classes = [i for i in range(n_samples)]\n",
        "    x_train = np.empty((n_samples,im_width**2))\n",
        "    y_train = np.empty((n_samples,1))\n",
        "    for i in range(n_samples):\n",
        "        file = path + str(df_train['image'][i])\n",
        "        im = Image.open(file).convert('L') #convert image to gray scale\n",
        "        im = im.resize((im_width,im_width)) #resize the image\n",
        "        im_array = asarray(im) #make image into an array\n",
        "        x_train[i,:] = im_array.reshape(1,-1)\n",
        "        y_train[i,0] = classes[df_train['class'][i]]\n",
        "    return x_train, y_train"
      ]
    },
    {
      "cell_type": "markdown",
      "metadata": {},
      "source": [
        "Creating model and Performance of Training set"
      ]
    },
    {
      "cell_type": "code",
      "execution_count": 147,
      "metadata": {},
      "outputs": [
        {
          "name": "stdout",
          "output_type": "stream",
          "text": [
            "1.0\n",
            "[[36  0  0]\n",
            " [ 0 36  0]\n",
            " [ 0  0 36]]\n"
          ]
        },
        {
          "name": "stderr",
          "output_type": "stream",
          "text": [
            "c:\\Users\\waqar\\AppData\\Local\\Programs\\Python\\Python310\\lib\\site-packages\\sklearn\\utils\\validation.py:1111: DataConversionWarning: A column-vector y was passed when a 1d array was expected. Please change the shape of y to (n_samples, ), for example using ravel().\n",
            "  y = column_or_1d(y, warn=True)\n",
            "c:\\Users\\waqar\\AppData\\Local\\Programs\\Python\\Python310\\lib\\site-packages\\sklearn\\linear_model\\_logistic.py:444: ConvergenceWarning: lbfgs failed to converge (status=1):\n",
            "STOP: TOTAL NO. of ITERATIONS REACHED LIMIT.\n",
            "\n",
            "Increase the number of iterations (max_iter) or scale the data as shown in:\n",
            "    https://scikit-learn.org/stable/modules/preprocessing.html\n",
            "Please also refer to the documentation for alternative solver options:\n",
            "    https://scikit-learn.org/stable/modules/linear_model.html#logistic-regression\n",
            "  n_iter_i = _check_optimize_result(\n"
          ]
        }
      ],
      "source": [
        "'''This block of code is used to build our model using x_train/y_train from above through logistic regression.\n",
        "It also displays the performace of the training set.'''\n",
        "model = LogisticRegression()\n",
        "x_train, y_train = train_function(path_training,im_width) #calling function to build training data\n",
        "model.fit(x_train,y_train) \n",
        "\n",
        "y_pred = model.predict(x_train) \n",
        "print(accuracy_score(y_train,y_pred)) #calulate accuracy score\n",
        "print(confusion_matrix(y_train,y_pred)) #evaluate confusion matrix"
      ]
    },
    {
      "cell_type": "markdown",
      "metadata": {},
      "source": [
        "Test Funciton and perfromance of Testing set"
      ]
    },
    {
      "cell_type": "code",
      "execution_count": 148,
      "metadata": {},
      "outputs": [],
      "source": [
        "'''The following block of code repeats the steps we took to create a dataframe in the training section of the project. \n",
        "Following which we resize and greyscale the images before testing the model against the testing dataset which is populated in the dataframe df_test.\n",
        "We have also wrapped the testing portion of the code in a function as requested.'''\n",
        "\n",
        "def test_function(path,im_width):\n",
        "    file_names = os.listdir(path)\n",
        "    labels = []\n",
        "    for file_name in file_names:\n",
        "        shape = file_name.split('_')[0]\n",
        "        if shape == 'cir':\n",
        "            labels.append(0)\n",
        "        elif shape == 'rec':\n",
        "            labels.append(1)\n",
        "        else:\n",
        "            labels.append(2)\n",
        "\n",
        "    dict = {\n",
        "        'image':file_names, 'class':labels\n",
        "    }\n",
        "    df_test = pd.DataFrame.from_dict(dict, orient='index').T\n",
        "    n_samples = len(df_test)\n",
        "    classes = [i for i in range(n_samples)]\n",
        "    x_test = np.empty((n_samples,im_width**2))\n",
        "    y_test = np.empty((n_samples,1))\n",
        "    for i in range(n_samples):\n",
        "        file = path + str(df_test['image'][i])\n",
        "        im = Image.open(file).convert('L')\n",
        "        im = im.resize((im_width,im_width))\n",
        "        im_array = asarray(im)\n",
        "        x_test[i,:] = im_array.reshape(1,-1)\n",
        "        y_test[i,0] = classes[df_test['class'][i]]\n",
        "\n",
        "    y_pred = model.predict(x_test)\n",
        "    acc = accuracy_score(y_test,y_pred)\n",
        "    conf = confusion_matrix(y_test,y_pred)\n",
        "    weights = model.coef_.shape[0]*model.coef_.shape[1]\n",
        "    return acc, conf, weights\n"
      ]
    },
    {
      "cell_type": "code",
      "execution_count": 149,
      "metadata": {},
      "outputs": [
        {
          "name": "stdout",
          "output_type": "stream",
          "text": [
            "0.9629629629629629\n",
            "[[18  0  0]\n",
            " [ 0 18  0]\n",
            " [ 2  0 16]]\n",
            "768\n"
          ]
        }
      ],
      "source": [
        "'''The test_function is called which returns the accuracy, confusion matrix and the weights that we have used'''\n",
        "acc, conf, weights = test_function(path_testing,im_width) #calling function to test the model\n",
        "print(acc)\n",
        "print(conf)\n",
        "print(weights)"
      ]
    }
  ],
  "metadata": {
    "colab": {
      "collapsed_sections": [],
      "provenance": []
    },
    "kernelspec": {
      "display_name": "Python 3.10.7 64-bit",
      "language": "python",
      "name": "python3"
    },
    "language_info": {
      "codemirror_mode": {
        "name": "ipython",
        "version": 3
      },
      "file_extension": ".py",
      "mimetype": "text/x-python",
      "name": "python",
      "nbconvert_exporter": "python",
      "pygments_lexer": "ipython3",
      "version": "3.10.7"
    },
    "vscode": {
      "interpreter": {
        "hash": "49889abd95f82777e6b66a10c80204c3b3e716789a34bc360f16a2fe73723d21"
      }
    }
  },
  "nbformat": 4,
  "nbformat_minor": 0
}
