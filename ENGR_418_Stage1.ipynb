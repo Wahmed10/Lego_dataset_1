{
  "cells": [
    {
      "cell_type": "code",
      "execution_count": 76,
      "metadata": {
        "id": "zq4Jaon_5Dsw"
      },
      "outputs": [],
      "source": [
        "import os\n",
        "import matplotlib.pyplot as plt\n",
        "import matplotlib.image as mpimg\n",
        "import numpy as np\n",
        "from numpy import asarray\n",
        "from sklearn.linear_model import LogisticRegression\n",
        "import pandas as pd\n",
        "from sklearn.metrics import confusion_matrix, accuracy_score\n",
        "from PIL import Image"
      ]
    },
    {
      "cell_type": "code",
      "execution_count": 77,
      "metadata": {
        "colab": {
          "base_uri": "https://localhost:8080/"
        },
        "id": "-mW9kXLq_mGp",
        "outputId": "8afa2e74-f432-4c93-942d-1f667b923501"
      },
      "outputs": [
        {
          "name": "stdout",
          "output_type": "stream",
          "text": [
            "          image class\n",
            "0     cir_1.png     0\n",
            "1    cir_11.png     0\n",
            "2    cir_12.png     0\n",
            "3    cir_13.png     0\n",
            "4    cir_14.png     0\n",
            "..          ...   ...\n",
            "103   squ_5.png     2\n",
            "104   squ_6.png     2\n",
            "105   squ_7.png     2\n",
            "106   squ_8.png     2\n",
            "107   squ_9.png     2\n",
            "\n",
            "[108 rows x 2 columns]\n"
          ]
        }
      ],
      "source": [
        "path_training = 'training/'\n",
        "file_names = os.listdir(path_training)\n",
        "labels = []\n",
        "for file_name in file_names:\n",
        "    shape = file_name.split('_')[0]\n",
        "    if shape == 'cir':\n",
        "        labels.append(0)\n",
        "    elif shape == 'rec':\n",
        "        labels.append(1)\n",
        "    else:\n",
        "        labels.append(2)\n",
        "\n",
        "dict = {\n",
        "    'image':file_names, 'class':labels\n",
        "}\n",
        "df_train = pd.DataFrame.from_dict(dict, orient='index').T\n",
        "print(df_train)\n",
        "#img = mpimg.imread('training/'+ str(df_train['image'][0]))\n",
        "#imgplot = plt.imshow(img)\n",
        "#plt.show()"
      ]
    },
    {
      "cell_type": "code",
      "execution_count": 78,
      "metadata": {},
      "outputs": [],
      "source": [
        "def train_data(folder,n_samples,im_width,data):\n",
        "    classes = [i for i in range(n_samples)]\n",
        "    x = np.empty((n_samples,im_width**2))\n",
        "    y = np.empty((n_samples,1))\n",
        "    for i in range(n_samples):\n",
        "        path = folder + str(data['image'][i])\n",
        "        im = Image.open(path).convert('L')\n",
        "        im = im.resize((im_width,im_width))\n",
        "        im_array = asarray(im)\n",
        "        x[i,:] = im_array.reshape(1,-1)\n",
        "        y[i,0] = classes[df_train['class'][i]]\n",
        "    return x,y"
      ]
    },
    {
      "cell_type": "code",
      "execution_count": 79,
      "metadata": {
        "id": "jefVgplqENmj"
      },
      "outputs": [],
      "source": [
        "im_width = 16\n",
        "num_images = len(df_train)\n",
        "x_train = np.empty((num_images*3,im_width**2))\n",
        "y_train = np.empty((num_images*3,1))"
      ]
    },
    {
      "cell_type": "code",
      "execution_count": 80,
      "metadata": {
        "colab": {
          "base_uri": "https://localhost:8080/",
          "height": 411
        },
        "id": "VtuzjCG3EWXP",
        "outputId": "1414e187-6a1e-45ad-bde6-a25e759a6cbb"
      },
      "outputs": [
        {
          "name": "stdout",
          "output_type": "stream",
          "text": [
            "(108, 256) (108, 1)\n"
          ]
        }
      ],
      "source": [
        "for i in range(num_images):\n",
        "  x_train, y_train = train_data(path_training,num_images,im_width,df_train)\n",
        "print(x_train.shape,y_train.shape)\n"
      ]
    },
    {
      "cell_type": "code",
      "execution_count": 81,
      "metadata": {},
      "outputs": [
        {
          "name": "stdout",
          "output_type": "stream",
          "text": [
            "1.0\n",
            "[[36  0  0]\n",
            " [ 0 36  0]\n",
            " [ 0  0 36]]\n"
          ]
        },
        {
          "name": "stderr",
          "output_type": "stream",
          "text": [
            "c:\\Users\\waqar\\AppData\\Local\\Programs\\Python\\Python310\\lib\\site-packages\\sklearn\\utils\\validation.py:1111: DataConversionWarning: A column-vector y was passed when a 1d array was expected. Please change the shape of y to (n_samples, ), for example using ravel().\n",
            "  y = column_or_1d(y, warn=True)\n",
            "c:\\Users\\waqar\\AppData\\Local\\Programs\\Python\\Python310\\lib\\site-packages\\sklearn\\linear_model\\_logistic.py:444: ConvergenceWarning: lbfgs failed to converge (status=1):\n",
            "STOP: TOTAL NO. of ITERATIONS REACHED LIMIT.\n",
            "\n",
            "Increase the number of iterations (max_iter) or scale the data as shown in:\n",
            "    https://scikit-learn.org/stable/modules/preprocessing.html\n",
            "Please also refer to the documentation for alternative solver options:\n",
            "    https://scikit-learn.org/stable/modules/linear_model.html#logistic-regression\n",
            "  n_iter_i = _check_optimize_result(\n"
          ]
        }
      ],
      "source": [
        "model = LogisticRegression()\n",
        "model.fit(x_train,y_train)\n",
        "y_pred = model.predict(x_train)\n",
        "print(accuracy_score(y_train,y_pred))\n",
        "print(confusion_matrix(y_train,y_pred))"
      ]
    },
    {
      "cell_type": "code",
      "execution_count": 82,
      "metadata": {},
      "outputs": [],
      "source": [
        "def test_function(path,im_width):\n",
        "    file_names = os.listdir(path)\n",
        "    labels = []\n",
        "    for file_name in file_names:\n",
        "        shape = file_name.split('_')[0]\n",
        "        if shape == 'cir':\n",
        "            labels.append(0)\n",
        "        elif shape == 'rec':\n",
        "            labels.append(1)\n",
        "        else:\n",
        "            labels.append(2)\n",
        "\n",
        "    dict = {\n",
        "        'image':file_names, 'class':labels\n",
        "    }\n",
        "    df_test = pd.DataFrame.from_dict(dict, orient='index').T\n",
        "    n_samples = len(df_test)\n",
        "    classes = [i for i in range(n_samples)]\n",
        "    x_test = np.empty((n_samples,im_width**2))\n",
        "    y_test = np.empty((n_samples,1))\n",
        "    for i in range(n_samples):\n",
        "        file = path + str(df_test['image'][i])\n",
        "        im = Image.open(file).convert('L')\n",
        "        im = im.resize((im_width,im_width))\n",
        "        im_array = asarray(im)\n",
        "        x_test[i,:] = im_array.reshape(1,-1)\n",
        "        y_test[i,0] = classes[df_test['class'][i]]\n",
        "\n",
        "    y_pred = model.predict(x_test)\n",
        "    acc = accuracy_score(y_test,y_pred)\n",
        "    conf = confusion_matrix(y_test,y_pred)\n",
        "    weights = model.coef_.shape[0]*model.coef_.shape[1]\n",
        "    return acc, conf, weights\n"
      ]
    },
    {
      "cell_type": "code",
      "execution_count": 83,
      "metadata": {},
      "outputs": [
        {
          "name": "stdout",
          "output_type": "stream",
          "text": [
            "0.9629629629629629\n",
            "[[18  0  0]\n",
            " [ 0 18  0]\n",
            " [ 2  0 16]]\n",
            "768\n"
          ]
        }
      ],
      "source": [
        "path_testing = 'testing/'\n",
        "acc, conf, weights = test_function(path_testing,im_width)\n",
        "print(acc)\n",
        "print(conf)\n",
        "print(weights)"
      ]
    }
  ],
  "metadata": {
    "colab": {
      "collapsed_sections": [],
      "provenance": []
    },
    "kernelspec": {
      "display_name": "Python 3.10.7 64-bit",
      "language": "python",
      "name": "python3"
    },
    "language_info": {
      "codemirror_mode": {
        "name": "ipython",
        "version": 3
      },
      "file_extension": ".py",
      "mimetype": "text/x-python",
      "name": "python",
      "nbconvert_exporter": "python",
      "pygments_lexer": "ipython3",
      "version": "3.10.7"
    },
    "vscode": {
      "interpreter": {
        "hash": "49889abd95f82777e6b66a10c80204c3b3e716789a34bc360f16a2fe73723d21"
      }
    }
  },
  "nbformat": 4,
  "nbformat_minor": 0
}
